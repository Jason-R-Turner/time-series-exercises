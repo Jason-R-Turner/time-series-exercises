{
 "cells": [
  {
   "cell_type": "markdown",
   "id": "4e686906-04e3-46dc-9325-c8d293eec853",
   "metadata": {},
   "source": [
    "# Working with Time Series Data"
   ]
  },
  {
   "cell_type": "code",
   "execution_count": 8,
   "id": "9c3ea4e9-9f21-4cb2-afa5-212c7bc6799e",
   "metadata": {},
   "outputs": [
    {
     "name": "stdout",
     "output_type": "stream",
     "text": [
      "1.3.4\n"
     ]
    },
    {
     "data": {
      "text/html": [
       "<div>\n",
       "<style scoped>\n",
       "    .dataframe tbody tr th:only-of-type {\n",
       "        vertical-align: middle;\n",
       "    }\n",
       "\n",
       "    .dataframe tbody tr th {\n",
       "        vertical-align: top;\n",
       "    }\n",
       "\n",
       "    .dataframe thead th {\n",
       "        text-align: right;\n",
       "    }\n",
       "</style>\n",
       "<table border=\"1\" class=\"dataframe\">\n",
       "  <thead>\n",
       "    <tr style=\"text-align: right;\">\n",
       "      <th></th>\n",
       "      <th>temp</th>\n",
       "      <th>date</th>\n",
       "    </tr>\n",
       "  </thead>\n",
       "  <tbody>\n",
       "    <tr>\n",
       "      <th>0</th>\n",
       "      <td>47.8</td>\n",
       "      <td>2010-01-01 00:00:00</td>\n",
       "    </tr>\n",
       "    <tr>\n",
       "      <th>1</th>\n",
       "      <td>47.4</td>\n",
       "      <td>2010-01-01 01:00:00</td>\n",
       "    </tr>\n",
       "    <tr>\n",
       "      <th>2</th>\n",
       "      <td>46.9</td>\n",
       "      <td>2010-01-01 02:00:00</td>\n",
       "    </tr>\n",
       "    <tr>\n",
       "      <th>3</th>\n",
       "      <td>46.5</td>\n",
       "      <td>2010-01-01 03:00:00</td>\n",
       "    </tr>\n",
       "    <tr>\n",
       "      <th>4</th>\n",
       "      <td>46.0</td>\n",
       "      <td>2010-01-01 04:00:00</td>\n",
       "    </tr>\n",
       "    <tr>\n",
       "      <th>...</th>\n",
       "      <td>...</td>\n",
       "      <td>...</td>\n",
       "    </tr>\n",
       "    <tr>\n",
       "      <th>8754</th>\n",
       "      <td>50.4</td>\n",
       "      <td>2010-12-31 19:00:00</td>\n",
       "    </tr>\n",
       "    <tr>\n",
       "      <th>8755</th>\n",
       "      <td>49.9</td>\n",
       "      <td>2010-12-31 20:00:00</td>\n",
       "    </tr>\n",
       "    <tr>\n",
       "      <th>8756</th>\n",
       "      <td>49.4</td>\n",
       "      <td>2010-12-31 21:00:00</td>\n",
       "    </tr>\n",
       "    <tr>\n",
       "      <th>8757</th>\n",
       "      <td>48.8</td>\n",
       "      <td>2010-12-31 22:00:00</td>\n",
       "    </tr>\n",
       "    <tr>\n",
       "      <th>8758</th>\n",
       "      <td>48.3</td>\n",
       "      <td>2010-12-31 23:00:00</td>\n",
       "    </tr>\n",
       "  </tbody>\n",
       "</table>\n",
       "<p>8759 rows × 2 columns</p>\n",
       "</div>"
      ],
      "text/plain": [
       "      temp                date\n",
       "0     47.8 2010-01-01 00:00:00\n",
       "1     47.4 2010-01-01 01:00:00\n",
       "2     46.9 2010-01-01 02:00:00\n",
       "3     46.5 2010-01-01 03:00:00\n",
       "4     46.0 2010-01-01 04:00:00\n",
       "...    ...                 ...\n",
       "8754  50.4 2010-12-31 19:00:00\n",
       "8755  49.9 2010-12-31 20:00:00\n",
       "8756  49.4 2010-12-31 21:00:00\n",
       "8757  48.8 2010-12-31 22:00:00\n",
       "8758  48.3 2010-12-31 23:00:00\n",
       "\n",
       "[8759 rows x 2 columns]"
      ]
     },
     "execution_count": 8,
     "metadata": {},
     "output_type": "execute_result"
    }
   ],
   "source": [
    "import pandas as pd\n",
    "print(pd.__version__)\n",
    "from vega_datasets import data\n",
    "data.sf_temps()"
   ]
  },
  {
   "cell_type": "code",
   "execution_count": 13,
   "id": "e57e2fba-5f87-41d7-8a76-63dc0d184371",
   "metadata": {},
   "outputs": [
    {
     "data": {
      "text/plain": [
       "temp           float64\n",
       "date    datetime64[ns]\n",
       "dtype: object"
      ]
     },
     "execution_count": 13,
     "metadata": {},
     "output_type": "execute_result"
    }
   ],
   "source": [
    "temps = data.sf_temps()\n",
    "temps.dtypes"
   ]
  },
  {
   "cell_type": "code",
   "execution_count": 16,
   "id": "80dd8cbc-18b1-4f71-b31d-1f3f920e2eff",
   "metadata": {},
   "outputs": [
    {
     "data": {
      "text/plain": [
       "RangeIndex(start=0, stop=8759, step=1)"
      ]
     },
     "execution_count": 16,
     "metadata": {},
     "output_type": "execute_result"
    }
   ],
   "source": [
    "temps.index"
   ]
  },
  {
   "cell_type": "code",
   "execution_count": 17,
   "id": "e7cd67c7-11d1-4dc8-8991-be6e3372723a",
   "metadata": {},
   "outputs": [
    {
     "data": {
      "text/html": [
       "<div>\n",
       "<style scoped>\n",
       "    .dataframe tbody tr th:only-of-type {\n",
       "        vertical-align: middle;\n",
       "    }\n",
       "\n",
       "    .dataframe tbody tr th {\n",
       "        vertical-align: top;\n",
       "    }\n",
       "\n",
       "    .dataframe thead th {\n",
       "        text-align: right;\n",
       "    }\n",
       "</style>\n",
       "<table border=\"1\" class=\"dataframe\">\n",
       "  <thead>\n",
       "    <tr style=\"text-align: right;\">\n",
       "      <th></th>\n",
       "      <th>temp</th>\n",
       "    </tr>\n",
       "    <tr>\n",
       "      <th>date</th>\n",
       "      <th></th>\n",
       "    </tr>\n",
       "  </thead>\n",
       "  <tbody>\n",
       "    <tr>\n",
       "      <th>2010-01-01 00:00:00</th>\n",
       "      <td>47.8</td>\n",
       "    </tr>\n",
       "    <tr>\n",
       "      <th>2010-01-01 01:00:00</th>\n",
       "      <td>47.4</td>\n",
       "    </tr>\n",
       "    <tr>\n",
       "      <th>2010-01-01 02:00:00</th>\n",
       "      <td>46.9</td>\n",
       "    </tr>\n",
       "    <tr>\n",
       "      <th>2010-01-01 03:00:00</th>\n",
       "      <td>46.5</td>\n",
       "    </tr>\n",
       "    <tr>\n",
       "      <th>2010-01-01 04:00:00</th>\n",
       "      <td>46.0</td>\n",
       "    </tr>\n",
       "    <tr>\n",
       "      <th>...</th>\n",
       "      <td>...</td>\n",
       "    </tr>\n",
       "    <tr>\n",
       "      <th>2010-12-31 19:00:00</th>\n",
       "      <td>50.4</td>\n",
       "    </tr>\n",
       "    <tr>\n",
       "      <th>2010-12-31 20:00:00</th>\n",
       "      <td>49.9</td>\n",
       "    </tr>\n",
       "    <tr>\n",
       "      <th>2010-12-31 21:00:00</th>\n",
       "      <td>49.4</td>\n",
       "    </tr>\n",
       "    <tr>\n",
       "      <th>2010-12-31 22:00:00</th>\n",
       "      <td>48.8</td>\n",
       "    </tr>\n",
       "    <tr>\n",
       "      <th>2010-12-31 23:00:00</th>\n",
       "      <td>48.3</td>\n",
       "    </tr>\n",
       "  </tbody>\n",
       "</table>\n",
       "<p>8759 rows × 1 columns</p>\n",
       "</div>"
      ],
      "text/plain": [
       "                     temp\n",
       "date                     \n",
       "2010-01-01 00:00:00  47.8\n",
       "2010-01-01 01:00:00  47.4\n",
       "2010-01-01 02:00:00  46.9\n",
       "2010-01-01 03:00:00  46.5\n",
       "2010-01-01 04:00:00  46.0\n",
       "...                   ...\n",
       "2010-12-31 19:00:00  50.4\n",
       "2010-12-31 20:00:00  49.9\n",
       "2010-12-31 21:00:00  49.4\n",
       "2010-12-31 22:00:00  48.8\n",
       "2010-12-31 23:00:00  48.3\n",
       "\n",
       "[8759 rows x 1 columns]"
      ]
     },
     "execution_count": 17,
     "metadata": {},
     "output_type": "execute_result"
    }
   ],
   "source": [
    "temps = temps.set_index('date').sort_index()\n",
    "temps"
   ]
  },
  {
   "cell_type": "code",
   "execution_count": 20,
   "id": "109d4ff9-d4ea-42f7-a64d-9514db891a35",
   "metadata": {},
   "outputs": [
    {
     "data": {
      "text/html": [
       "<div>\n",
       "<style scoped>\n",
       "    .dataframe tbody tr th:only-of-type {\n",
       "        vertical-align: middle;\n",
       "    }\n",
       "\n",
       "    .dataframe tbody tr th {\n",
       "        vertical-align: top;\n",
       "    }\n",
       "\n",
       "    .dataframe thead th {\n",
       "        text-align: right;\n",
       "    }\n",
       "</style>\n",
       "<table border=\"1\" class=\"dataframe\">\n",
       "  <thead>\n",
       "    <tr style=\"text-align: right;\">\n",
       "      <th></th>\n",
       "      <th>temp</th>\n",
       "    </tr>\n",
       "    <tr>\n",
       "      <th>date</th>\n",
       "      <th></th>\n",
       "    </tr>\n",
       "  </thead>\n",
       "  <tbody>\n",
       "    <tr>\n",
       "      <th>2010-05-01 00:00:00</th>\n",
       "      <td>53.1</td>\n",
       "    </tr>\n",
       "    <tr>\n",
       "      <th>2010-05-01 01:00:00</th>\n",
       "      <td>52.7</td>\n",
       "    </tr>\n",
       "    <tr>\n",
       "      <th>2010-05-01 02:00:00</th>\n",
       "      <td>52.3</td>\n",
       "    </tr>\n",
       "    <tr>\n",
       "      <th>2010-05-01 03:00:00</th>\n",
       "      <td>52.0</td>\n",
       "    </tr>\n",
       "    <tr>\n",
       "      <th>2010-05-01 04:00:00</th>\n",
       "      <td>51.6</td>\n",
       "    </tr>\n",
       "    <tr>\n",
       "      <th>...</th>\n",
       "      <td>...</td>\n",
       "    </tr>\n",
       "    <tr>\n",
       "      <th>2010-05-31 19:00:00</th>\n",
       "      <td>58.4</td>\n",
       "    </tr>\n",
       "    <tr>\n",
       "      <th>2010-05-31 20:00:00</th>\n",
       "      <td>56.9</td>\n",
       "    </tr>\n",
       "    <tr>\n",
       "      <th>2010-05-31 21:00:00</th>\n",
       "      <td>56.3</td>\n",
       "    </tr>\n",
       "    <tr>\n",
       "      <th>2010-05-31 22:00:00</th>\n",
       "      <td>55.9</td>\n",
       "    </tr>\n",
       "    <tr>\n",
       "      <th>2010-05-31 23:00:00</th>\n",
       "      <td>55.4</td>\n",
       "    </tr>\n",
       "  </tbody>\n",
       "</table>\n",
       "<p>744 rows × 1 columns</p>\n",
       "</div>"
      ],
      "text/plain": [
       "                     temp\n",
       "date                     \n",
       "2010-05-01 00:00:00  53.1\n",
       "2010-05-01 01:00:00  52.7\n",
       "2010-05-01 02:00:00  52.3\n",
       "2010-05-01 03:00:00  52.0\n",
       "2010-05-01 04:00:00  51.6\n",
       "...                   ...\n",
       "2010-05-31 19:00:00  58.4\n",
       "2010-05-31 20:00:00  56.9\n",
       "2010-05-31 21:00:00  56.3\n",
       "2010-05-31 22:00:00  55.9\n",
       "2010-05-31 23:00:00  55.4\n",
       "\n",
       "[744 rows x 1 columns]"
      ]
     },
     "execution_count": 20,
     "metadata": {},
     "output_type": "execute_result"
    }
   ],
   "source": [
    "temps.loc['2010-05']\n"
   ]
  },
  {
   "cell_type": "code",
   "execution_count": 21,
   "id": "12699dcb-793c-461d-a022-56fb61632c6d",
   "metadata": {},
   "outputs": [
    {
     "data": {
      "text/html": [
       "<div>\n",
       "<style scoped>\n",
       "    .dataframe tbody tr th:only-of-type {\n",
       "        vertical-align: middle;\n",
       "    }\n",
       "\n",
       "    .dataframe tbody tr th {\n",
       "        vertical-align: top;\n",
       "    }\n",
       "\n",
       "    .dataframe thead th {\n",
       "        text-align: right;\n",
       "    }\n",
       "</style>\n",
       "<table border=\"1\" class=\"dataframe\">\n",
       "  <thead>\n",
       "    <tr style=\"text-align: right;\">\n",
       "      <th></th>\n",
       "      <th>temp</th>\n",
       "    </tr>\n",
       "    <tr>\n",
       "      <th>date</th>\n",
       "      <th></th>\n",
       "    </tr>\n",
       "  </thead>\n",
       "  <tbody>\n",
       "    <tr>\n",
       "      <th>2010-05-15 00:00:00</th>\n",
       "      <td>53.6</td>\n",
       "    </tr>\n",
       "    <tr>\n",
       "      <th>2010-05-15 01:00:00</th>\n",
       "      <td>53.3</td>\n",
       "    </tr>\n",
       "    <tr>\n",
       "      <th>2010-05-15 02:00:00</th>\n",
       "      <td>52.9</td>\n",
       "    </tr>\n",
       "    <tr>\n",
       "      <th>2010-05-15 03:00:00</th>\n",
       "      <td>52.5</td>\n",
       "    </tr>\n",
       "    <tr>\n",
       "      <th>2010-05-15 04:00:00</th>\n",
       "      <td>52.3</td>\n",
       "    </tr>\n",
       "    <tr>\n",
       "      <th>...</th>\n",
       "      <td>...</td>\n",
       "    </tr>\n",
       "    <tr>\n",
       "      <th>2010-06-15 19:00:00</th>\n",
       "      <td>60.0</td>\n",
       "    </tr>\n",
       "    <tr>\n",
       "      <th>2010-06-15 20:00:00</th>\n",
       "      <td>57.9</td>\n",
       "    </tr>\n",
       "    <tr>\n",
       "      <th>2010-06-15 21:00:00</th>\n",
       "      <td>57.3</td>\n",
       "    </tr>\n",
       "    <tr>\n",
       "      <th>2010-06-15 22:00:00</th>\n",
       "      <td>56.6</td>\n",
       "    </tr>\n",
       "    <tr>\n",
       "      <th>2010-06-15 23:00:00</th>\n",
       "      <td>56.2</td>\n",
       "    </tr>\n",
       "  </tbody>\n",
       "</table>\n",
       "<p>768 rows × 1 columns</p>\n",
       "</div>"
      ],
      "text/plain": [
       "                     temp\n",
       "date                     \n",
       "2010-05-15 00:00:00  53.6\n",
       "2010-05-15 01:00:00  53.3\n",
       "2010-05-15 02:00:00  52.9\n",
       "2010-05-15 03:00:00  52.5\n",
       "2010-05-15 04:00:00  52.3\n",
       "...                   ...\n",
       "2010-06-15 19:00:00  60.0\n",
       "2010-06-15 20:00:00  57.9\n",
       "2010-06-15 21:00:00  57.3\n",
       "2010-06-15 22:00:00  56.6\n",
       "2010-06-15 23:00:00  56.2\n",
       "\n",
       "[768 rows x 1 columns]"
      ]
     },
     "execution_count": 21,
     "metadata": {},
     "output_type": "execute_result"
    }
   ],
   "source": [
    "temps.loc['2010-05-15':'2010-06-15']\n"
   ]
  },
  {
   "cell_type": "code",
   "execution_count": 24,
   "id": "ab079f5b-564a-467f-be66-b637a174f12f",
   "metadata": {},
   "outputs": [
    {
     "data": {
      "text/html": [
       "<div>\n",
       "<style scoped>\n",
       "    .dataframe tbody tr th:only-of-type {\n",
       "        vertical-align: middle;\n",
       "    }\n",
       "\n",
       "    .dataframe tbody tr th {\n",
       "        vertical-align: top;\n",
       "    }\n",
       "\n",
       "    .dataframe thead th {\n",
       "        text-align: right;\n",
       "    }\n",
       "</style>\n",
       "<table border=\"1\" class=\"dataframe\">\n",
       "  <thead>\n",
       "    <tr style=\"text-align: right;\">\n",
       "      <th></th>\n",
       "      <th>temp</th>\n",
       "    </tr>\n",
       "    <tr>\n",
       "      <th>date</th>\n",
       "      <th></th>\n",
       "    </tr>\n",
       "  </thead>\n",
       "  <tbody>\n",
       "    <tr>\n",
       "      <th>2010-01-03</th>\n",
       "      <td>49.288889</td>\n",
       "    </tr>\n",
       "    <tr>\n",
       "      <th>2010-01-17</th>\n",
       "      <td>49.668155</td>\n",
       "    </tr>\n",
       "    <tr>\n",
       "      <th>2010-01-31</th>\n",
       "      <td>50.449107</td>\n",
       "    </tr>\n",
       "    <tr>\n",
       "      <th>2010-02-14</th>\n",
       "      <td>51.716964</td>\n",
       "    </tr>\n",
       "    <tr>\n",
       "      <th>2010-02-28</th>\n",
       "      <td>52.770833</td>\n",
       "    </tr>\n",
       "    <tr>\n",
       "      <th>2010-03-14</th>\n",
       "      <td>53.566269</td>\n",
       "    </tr>\n",
       "    <tr>\n",
       "      <th>2010-03-28</th>\n",
       "      <td>54.240179</td>\n",
       "    </tr>\n",
       "    <tr>\n",
       "      <th>2010-04-11</th>\n",
       "      <td>54.752976</td>\n",
       "    </tr>\n",
       "    <tr>\n",
       "      <th>2010-04-25</th>\n",
       "      <td>55.836905</td>\n",
       "    </tr>\n",
       "    <tr>\n",
       "      <th>2010-05-09</th>\n",
       "      <td>57.048810</td>\n",
       "    </tr>\n",
       "    <tr>\n",
       "      <th>2010-05-23</th>\n",
       "      <td>57.960714</td>\n",
       "    </tr>\n",
       "    <tr>\n",
       "      <th>2010-06-06</th>\n",
       "      <td>59.096131</td>\n",
       "    </tr>\n",
       "    <tr>\n",
       "      <th>2010-06-20</th>\n",
       "      <td>60.306548</td>\n",
       "    </tr>\n",
       "    <tr>\n",
       "      <th>2010-07-04</th>\n",
       "      <td>61.344940</td>\n",
       "    </tr>\n",
       "    <tr>\n",
       "      <th>2010-07-18</th>\n",
       "      <td>61.822024</td>\n",
       "    </tr>\n",
       "    <tr>\n",
       "      <th>2010-08-01</th>\n",
       "      <td>61.791369</td>\n",
       "    </tr>\n",
       "    <tr>\n",
       "      <th>2010-08-15</th>\n",
       "      <td>62.259524</td>\n",
       "    </tr>\n",
       "    <tr>\n",
       "      <th>2010-08-29</th>\n",
       "      <td>62.486310</td>\n",
       "    </tr>\n",
       "    <tr>\n",
       "      <th>2010-09-12</th>\n",
       "      <td>62.873214</td>\n",
       "    </tr>\n",
       "    <tr>\n",
       "      <th>2010-09-26</th>\n",
       "      <td>62.321131</td>\n",
       "    </tr>\n",
       "    <tr>\n",
       "      <th>2010-10-10</th>\n",
       "      <td>61.681548</td>\n",
       "    </tr>\n",
       "    <tr>\n",
       "      <th>2010-10-24</th>\n",
       "      <td>60.076488</td>\n",
       "    </tr>\n",
       "    <tr>\n",
       "      <th>2010-11-07</th>\n",
       "      <td>58.092560</td>\n",
       "    </tr>\n",
       "    <tr>\n",
       "      <th>2010-11-21</th>\n",
       "      <td>55.462798</td>\n",
       "    </tr>\n",
       "    <tr>\n",
       "      <th>2010-12-05</th>\n",
       "      <td>52.762500</td>\n",
       "    </tr>\n",
       "    <tr>\n",
       "      <th>2010-12-19</th>\n",
       "      <td>51.028274</td>\n",
       "    </tr>\n",
       "    <tr>\n",
       "      <th>2011-01-02</th>\n",
       "      <td>49.122222</td>\n",
       "    </tr>\n",
       "  </tbody>\n",
       "</table>\n",
       "</div>"
      ],
      "text/plain": [
       "                 temp\n",
       "date                 \n",
       "2010-01-03  49.288889\n",
       "2010-01-17  49.668155\n",
       "2010-01-31  50.449107\n",
       "2010-02-14  51.716964\n",
       "2010-02-28  52.770833\n",
       "2010-03-14  53.566269\n",
       "2010-03-28  54.240179\n",
       "2010-04-11  54.752976\n",
       "2010-04-25  55.836905\n",
       "2010-05-09  57.048810\n",
       "2010-05-23  57.960714\n",
       "2010-06-06  59.096131\n",
       "2010-06-20  60.306548\n",
       "2010-07-04  61.344940\n",
       "2010-07-18  61.822024\n",
       "2010-08-01  61.791369\n",
       "2010-08-15  62.259524\n",
       "2010-08-29  62.486310\n",
       "2010-09-12  62.873214\n",
       "2010-09-26  62.321131\n",
       "2010-10-10  61.681548\n",
       "2010-10-24  60.076488\n",
       "2010-11-07  58.092560\n",
       "2010-11-21  55.462798\n",
       "2010-12-05  52.762500\n",
       "2010-12-19  51.028274\n",
       "2011-01-02  49.122222"
      ]
     },
     "execution_count": 24,
     "metadata": {},
     "output_type": "execute_result"
    }
   ],
   "source": [
    "# resample grouped every two weeks\n",
    "temps.resample('2w').mean()"
   ]
  },
  {
   "cell_type": "code",
   "execution_count": 26,
   "id": "3dfeabee-92da-4a4b-86f8-2d7ee51dcf8d",
   "metadata": {},
   "outputs": [
    {
     "data": {
      "text/plain": [
       "<AxesSubplot:xlabel='date'>"
      ]
     },
     "execution_count": 26,
     "metadata": {},
     "output_type": "execute_result"
    },
    {
     "data": {
      "image/png": "[encoded data removed]",
      "text/plain": [
       "<Figure size 432x288 with 1 Axes>"
      ]
     },
     "metadata": {
      "needs_background": "light"
     },
     "output_type": "display_data"
    }
   ],
   "source": [
    "# plots temperature against time which is the x-axis\n",
    "temps.plot()"
   ]
  },
  {
   "cell_type": "code",
   "execution_count": 27,
   "id": "d0c5eeff-2a16-4b0a-bb31-148c1b5b66f8",
   "metadata": {},
   "outputs": [
    {
     "data": {
      "text/plain": [
       "<AxesSubplot:xlabel='date'>"
      ]
     },
     "execution_count": 27,
     "metadata": {},
     "output_type": "execute_result"
    },
    {
     "data": {
      "image/png": "[encoded data removed]",
      "text/plain": [
       "<Figure size 432x288 with 1 Axes>"
      ]
     },
     "metadata": {
      "needs_background": "light"
     },
     "output_type": "display_data"
    }
   ],
   "source": [
    "# plots resampled data grouped into months for the average temperature\n",
    "temps.resample('m').mean().plot(marker='o')"
   ]
  },
  {
   "cell_type": "code",
   "execution_count": 29,
   "id": "9226427c-ccfd-4c3e-a24c-1557b2609899",
   "metadata": {},
   "outputs": [
    {
     "data": {
      "text/html": [
       "<div>\n",
       "<style scoped>\n",
       "    .dataframe tbody tr th:only-of-type {\n",
       "        vertical-align: middle;\n",
       "    }\n",
       "\n",
       "    .dataframe tbody tr th {\n",
       "        vertical-align: top;\n",
       "    }\n",
       "\n",
       "    .dataframe thead th {\n",
       "        text-align: right;\n",
       "    }\n",
       "</style>\n",
       "<table border=\"1\" class=\"dataframe\">\n",
       "  <thead>\n",
       "    <tr style=\"text-align: right;\">\n",
       "      <th></th>\n",
       "      <th>temp</th>\n",
       "      <th>rolling_3</th>\n",
       "      <th>rolling_5</th>\n",
       "      <th>rolling_7</th>\n",
       "    </tr>\n",
       "    <tr>\n",
       "      <th>date</th>\n",
       "      <th></th>\n",
       "      <th></th>\n",
       "      <th></th>\n",
       "      <th></th>\n",
       "    </tr>\n",
       "  </thead>\n",
       "  <tbody>\n",
       "    <tr>\n",
       "      <th>2010-01-03</th>\n",
       "      <td>49.288889</td>\n",
       "      <td>NaN</td>\n",
       "      <td>NaN</td>\n",
       "      <td>NaN</td>\n",
       "    </tr>\n",
       "    <tr>\n",
       "      <th>2010-01-10</th>\n",
       "      <td>49.507143</td>\n",
       "      <td>NaN</td>\n",
       "      <td>NaN</td>\n",
       "      <td>NaN</td>\n",
       "    </tr>\n",
       "    <tr>\n",
       "      <th>2010-01-17</th>\n",
       "      <td>49.829167</td>\n",
       "      <td>49.541733</td>\n",
       "      <td>NaN</td>\n",
       "      <td>NaN</td>\n",
       "    </tr>\n",
       "    <tr>\n",
       "      <th>2010-01-24</th>\n",
       "      <td>50.192262</td>\n",
       "      <td>49.842857</td>\n",
       "      <td>NaN</td>\n",
       "      <td>NaN</td>\n",
       "    </tr>\n",
       "    <tr>\n",
       "      <th>2010-01-31</th>\n",
       "      <td>50.705952</td>\n",
       "      <td>50.242460</td>\n",
       "      <td>49.904683</td>\n",
       "      <td>NaN</td>\n",
       "    </tr>\n",
       "    <tr>\n",
       "      <th>2010-02-07</th>\n",
       "      <td>51.338690</td>\n",
       "      <td>50.745635</td>\n",
       "      <td>50.314643</td>\n",
       "      <td>NaN</td>\n",
       "    </tr>\n",
       "    <tr>\n",
       "      <th>2010-02-14</th>\n",
       "      <td>52.095238</td>\n",
       "      <td>51.379960</td>\n",
       "      <td>50.832262</td>\n",
       "      <td>50.422477</td>\n",
       "    </tr>\n",
       "    <tr>\n",
       "      <th>2010-02-21</th>\n",
       "      <td>52.630357</td>\n",
       "      <td>52.021429</td>\n",
       "      <td>51.392500</td>\n",
       "      <td>50.899830</td>\n",
       "    </tr>\n",
       "    <tr>\n",
       "      <th>2010-02-28</th>\n",
       "      <td>52.911310</td>\n",
       "      <td>52.545635</td>\n",
       "      <td>51.936310</td>\n",
       "      <td>51.386139</td>\n",
       "    </tr>\n",
       "    <tr>\n",
       "      <th>2010-03-07</th>\n",
       "      <td>53.313690</td>\n",
       "      <td>52.951786</td>\n",
       "      <td>52.457857</td>\n",
       "      <td>51.883929</td>\n",
       "    </tr>\n",
       "    <tr>\n",
       "      <th>2010-03-14</th>\n",
       "      <td>53.820359</td>\n",
       "      <td>53.348453</td>\n",
       "      <td>52.954191</td>\n",
       "      <td>52.402228</td>\n",
       "    </tr>\n",
       "    <tr>\n",
       "      <th>2010-03-21</th>\n",
       "      <td>54.137500</td>\n",
       "      <td>53.757183</td>\n",
       "      <td>53.362643</td>\n",
       "      <td>52.892449</td>\n",
       "    </tr>\n",
       "    <tr>\n",
       "      <th>2010-03-28</th>\n",
       "      <td>54.342857</td>\n",
       "      <td>54.100239</td>\n",
       "      <td>53.705143</td>\n",
       "      <td>53.321616</td>\n",
       "    </tr>\n",
       "    <tr>\n",
       "      <th>2010-04-04</th>\n",
       "      <td>54.570833</td>\n",
       "      <td>54.350397</td>\n",
       "      <td>54.037048</td>\n",
       "      <td>53.675272</td>\n",
       "    </tr>\n",
       "    <tr>\n",
       "      <th>2010-04-11</th>\n",
       "      <td>54.935119</td>\n",
       "      <td>54.616270</td>\n",
       "      <td>54.361334</td>\n",
       "      <td>54.004524</td>\n",
       "    </tr>\n",
       "    <tr>\n",
       "      <th>2010-04-18</th>\n",
       "      <td>55.518452</td>\n",
       "      <td>55.008135</td>\n",
       "      <td>54.700952</td>\n",
       "      <td>54.376973</td>\n",
       "    </tr>\n",
       "    <tr>\n",
       "      <th>2010-04-25</th>\n",
       "      <td>56.155357</td>\n",
       "      <td>55.536310</td>\n",
       "      <td>55.104524</td>\n",
       "      <td>54.782925</td>\n",
       "    </tr>\n",
       "    <tr>\n",
       "      <th>2010-05-02</th>\n",
       "      <td>56.884524</td>\n",
       "      <td>56.186111</td>\n",
       "      <td>55.612857</td>\n",
       "      <td>55.220663</td>\n",
       "    </tr>\n",
       "    <tr>\n",
       "      <th>2010-05-09</th>\n",
       "      <td>57.213095</td>\n",
       "      <td>56.750992</td>\n",
       "      <td>56.141310</td>\n",
       "      <td>55.660034</td>\n",
       "    </tr>\n",
       "    <tr>\n",
       "      <th>2010-05-16</th>\n",
       "      <td>57.629762</td>\n",
       "      <td>57.242460</td>\n",
       "      <td>56.680238</td>\n",
       "      <td>56.129592</td>\n",
       "    </tr>\n",
       "  </tbody>\n",
       "</table>\n",
       "</div>"
      ],
      "text/plain": [
       "                 temp  rolling_3  rolling_5  rolling_7\n",
       "date                                                  \n",
       "2010-01-03  49.288889        NaN        NaN        NaN\n",
       "2010-01-10  49.507143        NaN        NaN        NaN\n",
       "2010-01-17  49.829167  49.541733        NaN        NaN\n",
       "2010-01-24  50.192262  49.842857        NaN        NaN\n",
       "2010-01-31  50.705952  50.242460  49.904683        NaN\n",
       "2010-02-07  51.338690  50.745635  50.314643        NaN\n",
       "2010-02-14  52.095238  51.379960  50.832262  50.422477\n",
       "2010-02-21  52.630357  52.021429  51.392500  50.899830\n",
       "2010-02-28  52.911310  52.545635  51.936310  51.386139\n",
       "2010-03-07  53.313690  52.951786  52.457857  51.883929\n",
       "2010-03-14  53.820359  53.348453  52.954191  52.402228\n",
       "2010-03-21  54.137500  53.757183  53.362643  52.892449\n",
       "2010-03-28  54.342857  54.100239  53.705143  53.321616\n",
       "2010-04-04  54.570833  54.350397  54.037048  53.675272\n",
       "2010-04-11  54.935119  54.616270  54.361334  54.004524\n",
       "2010-04-18  55.518452  55.008135  54.700952  54.376973\n",
       "2010-04-25  56.155357  55.536310  55.104524  54.782925\n",
       "2010-05-02  56.884524  56.186111  55.612857  55.220663\n",
       "2010-05-09  57.213095  56.750992  56.141310  55.660034\n",
       "2010-05-16  57.629762  57.242460  56.680238  56.129592"
      ]
     },
     "execution_count": 29,
     "metadata": {},
     "output_type": "execute_result"
    },
    {
     "data": {
      "image/png": "[encoded data removed]",
      "text/plain": [
       "<Figure size 432x288 with 1 Axes>"
      ]
     },
     "metadata": {
      "needs_background": "light"
     },
     "output_type": "display_data"
    }
   ],
   "source": [
    "# uses .rolling to calculate rolling averages over a restricted time periods like the past 3 days, 5 days, or a week\n",
    "rolling_df = temps.resample('W').mean().assign(\n",
    "    rolling_3=lambda temps: temps.temp.rolling(3).mean(),\n",
    "    rolling_5=lambda temps: temps.temp.rolling(5).mean(),\n",
    "    rolling_7=lambda temps: temps.temp.rolling(7).mean(),\n",
    ")\n",
    "rolling_df.plot()\n",
    "rolling_df.head(20)\n"
   ]
  },
  {
   "cell_type": "code",
   "execution_count": 31,
   "id": "90770fcd-35e7-417c-9072-b47efa623d05",
   "metadata": {},
   "outputs": [
    {
     "data": {
      "text/html": [
       "<div>\n",
       "<style scoped>\n",
       "    .dataframe tbody tr th:only-of-type {\n",
       "        vertical-align: middle;\n",
       "    }\n",
       "\n",
       "    .dataframe tbody tr th {\n",
       "        vertical-align: top;\n",
       "    }\n",
       "\n",
       "    .dataframe thead th {\n",
       "        text-align: right;\n",
       "    }\n",
       "</style>\n",
       "<table border=\"1\" class=\"dataframe\">\n",
       "  <thead>\n",
       "    <tr style=\"text-align: right;\">\n",
       "      <th></th>\n",
       "      <th>temp</th>\n",
       "      <th>shift(-1)</th>\n",
       "      <th>shift(1)</th>\n",
       "      <th>shift(3)</th>\n",
       "      <th>diff(1)</th>\n",
       "      <th>diff(3)</th>\n",
       "    </tr>\n",
       "    <tr>\n",
       "      <th>date</th>\n",
       "      <th></th>\n",
       "      <th></th>\n",
       "      <th></th>\n",
       "      <th></th>\n",
       "      <th></th>\n",
       "      <th></th>\n",
       "    </tr>\n",
       "  </thead>\n",
       "  <tbody>\n",
       "    <tr>\n",
       "      <th>2010-01-01 00:00:00</th>\n",
       "      <td>47.8</td>\n",
       "      <td>47.4</td>\n",
       "      <td>NaN</td>\n",
       "      <td>NaN</td>\n",
       "      <td>NaN</td>\n",
       "      <td>NaN</td>\n",
       "    </tr>\n",
       "    <tr>\n",
       "      <th>2010-01-01 01:00:00</th>\n",
       "      <td>47.4</td>\n",
       "      <td>46.9</td>\n",
       "      <td>47.8</td>\n",
       "      <td>NaN</td>\n",
       "      <td>-0.4</td>\n",
       "      <td>NaN</td>\n",
       "    </tr>\n",
       "    <tr>\n",
       "      <th>2010-01-01 02:00:00</th>\n",
       "      <td>46.9</td>\n",
       "      <td>46.5</td>\n",
       "      <td>47.4</td>\n",
       "      <td>NaN</td>\n",
       "      <td>-0.5</td>\n",
       "      <td>NaN</td>\n",
       "    </tr>\n",
       "    <tr>\n",
       "      <th>2010-01-01 03:00:00</th>\n",
       "      <td>46.5</td>\n",
       "      <td>46.0</td>\n",
       "      <td>46.9</td>\n",
       "      <td>47.8</td>\n",
       "      <td>-0.4</td>\n",
       "      <td>-1.3</td>\n",
       "    </tr>\n",
       "    <tr>\n",
       "      <th>2010-01-01 04:00:00</th>\n",
       "      <td>46.0</td>\n",
       "      <td>45.8</td>\n",
       "      <td>46.5</td>\n",
       "      <td>47.4</td>\n",
       "      <td>-0.5</td>\n",
       "      <td>-1.4</td>\n",
       "    </tr>\n",
       "    <tr>\n",
       "      <th>2010-01-01 05:00:00</th>\n",
       "      <td>45.8</td>\n",
       "      <td>45.9</td>\n",
       "      <td>46.0</td>\n",
       "      <td>46.9</td>\n",
       "      <td>-0.2</td>\n",
       "      <td>-1.1</td>\n",
       "    </tr>\n",
       "    <tr>\n",
       "      <th>2010-01-01 06:00:00</th>\n",
       "      <td>45.9</td>\n",
       "      <td>45.9</td>\n",
       "      <td>45.8</td>\n",
       "      <td>46.5</td>\n",
       "      <td>0.1</td>\n",
       "      <td>-0.6</td>\n",
       "    </tr>\n",
       "    <tr>\n",
       "      <th>2010-01-01 07:00:00</th>\n",
       "      <td>45.9</td>\n",
       "      <td>46.4</td>\n",
       "      <td>45.9</td>\n",
       "      <td>46.0</td>\n",
       "      <td>0.0</td>\n",
       "      <td>-0.1</td>\n",
       "    </tr>\n",
       "    <tr>\n",
       "      <th>2010-01-01 08:00:00</th>\n",
       "      <td>46.4</td>\n",
       "      <td>48.0</td>\n",
       "      <td>45.9</td>\n",
       "      <td>45.8</td>\n",
       "      <td>0.5</td>\n",
       "      <td>0.6</td>\n",
       "    </tr>\n",
       "    <tr>\n",
       "      <th>2010-01-01 09:00:00</th>\n",
       "      <td>48.0</td>\n",
       "      <td>49.5</td>\n",
       "      <td>46.4</td>\n",
       "      <td>45.9</td>\n",
       "      <td>1.6</td>\n",
       "      <td>2.1</td>\n",
       "    </tr>\n",
       "    <tr>\n",
       "      <th>2010-01-01 10:00:00</th>\n",
       "      <td>49.5</td>\n",
       "      <td>50.6</td>\n",
       "      <td>48.0</td>\n",
       "      <td>45.9</td>\n",
       "      <td>1.5</td>\n",
       "      <td>3.6</td>\n",
       "    </tr>\n",
       "    <tr>\n",
       "      <th>2010-01-01 11:00:00</th>\n",
       "      <td>50.6</td>\n",
       "      <td>51.6</td>\n",
       "      <td>49.5</td>\n",
       "      <td>46.4</td>\n",
       "      <td>1.1</td>\n",
       "      <td>4.2</td>\n",
       "    </tr>\n",
       "    <tr>\n",
       "      <th>2010-01-01 12:00:00</th>\n",
       "      <td>51.6</td>\n",
       "      <td>52.4</td>\n",
       "      <td>50.6</td>\n",
       "      <td>48.0</td>\n",
       "      <td>1.0</td>\n",
       "      <td>3.6</td>\n",
       "    </tr>\n",
       "    <tr>\n",
       "      <th>2010-01-01 13:00:00</th>\n",
       "      <td>52.4</td>\n",
       "      <td>53.0</td>\n",
       "      <td>51.6</td>\n",
       "      <td>49.5</td>\n",
       "      <td>0.8</td>\n",
       "      <td>2.9</td>\n",
       "    </tr>\n",
       "    <tr>\n",
       "      <th>2010-01-01 14:00:00</th>\n",
       "      <td>53.0</td>\n",
       "      <td>53.3</td>\n",
       "      <td>52.4</td>\n",
       "      <td>50.6</td>\n",
       "      <td>0.6</td>\n",
       "      <td>2.4</td>\n",
       "    </tr>\n",
       "    <tr>\n",
       "      <th>2010-01-01 15:00:00</th>\n",
       "      <td>53.3</td>\n",
       "      <td>52.9</td>\n",
       "      <td>53.0</td>\n",
       "      <td>51.6</td>\n",
       "      <td>0.3</td>\n",
       "      <td>1.7</td>\n",
       "    </tr>\n",
       "    <tr>\n",
       "      <th>2010-01-01 16:00:00</th>\n",
       "      <td>52.9</td>\n",
       "      <td>51.9</td>\n",
       "      <td>53.3</td>\n",
       "      <td>52.4</td>\n",
       "      <td>-0.4</td>\n",
       "      <td>0.5</td>\n",
       "    </tr>\n",
       "    <tr>\n",
       "      <th>2010-01-01 17:00:00</th>\n",
       "      <td>51.9</td>\n",
       "      <td>51.1</td>\n",
       "      <td>52.9</td>\n",
       "      <td>53.0</td>\n",
       "      <td>-1.0</td>\n",
       "      <td>-1.1</td>\n",
       "    </tr>\n",
       "    <tr>\n",
       "      <th>2010-01-01 18:00:00</th>\n",
       "      <td>51.1</td>\n",
       "      <td>50.5</td>\n",
       "      <td>51.9</td>\n",
       "      <td>53.3</td>\n",
       "      <td>-0.8</td>\n",
       "      <td>-2.2</td>\n",
       "    </tr>\n",
       "    <tr>\n",
       "      <th>2010-01-01 19:00:00</th>\n",
       "      <td>50.5</td>\n",
       "      <td>49.9</td>\n",
       "      <td>51.1</td>\n",
       "      <td>52.9</td>\n",
       "      <td>-0.6</td>\n",
       "      <td>-2.4</td>\n",
       "    </tr>\n",
       "    <tr>\n",
       "      <th>2010-01-01 20:00:00</th>\n",
       "      <td>49.9</td>\n",
       "      <td>49.5</td>\n",
       "      <td>50.5</td>\n",
       "      <td>51.9</td>\n",
       "      <td>-0.6</td>\n",
       "      <td>-2.0</td>\n",
       "    </tr>\n",
       "    <tr>\n",
       "      <th>2010-01-01 21:00:00</th>\n",
       "      <td>49.5</td>\n",
       "      <td>48.9</td>\n",
       "      <td>49.9</td>\n",
       "      <td>51.1</td>\n",
       "      <td>-0.4</td>\n",
       "      <td>-1.6</td>\n",
       "    </tr>\n",
       "    <tr>\n",
       "      <th>2010-01-01 22:00:00</th>\n",
       "      <td>48.9</td>\n",
       "      <td>48.4</td>\n",
       "      <td>49.5</td>\n",
       "      <td>50.5</td>\n",
       "      <td>-0.6</td>\n",
       "      <td>-1.6</td>\n",
       "    </tr>\n",
       "    <tr>\n",
       "      <th>2010-01-01 23:00:00</th>\n",
       "      <td>48.4</td>\n",
       "      <td>47.9</td>\n",
       "      <td>48.9</td>\n",
       "      <td>49.9</td>\n",
       "      <td>-0.5</td>\n",
       "      <td>-1.5</td>\n",
       "    </tr>\n",
       "    <tr>\n",
       "      <th>2010-01-02 00:00:00</th>\n",
       "      <td>47.9</td>\n",
       "      <td>47.6</td>\n",
       "      <td>48.4</td>\n",
       "      <td>49.5</td>\n",
       "      <td>-0.5</td>\n",
       "      <td>-1.6</td>\n",
       "    </tr>\n",
       "  </tbody>\n",
       "</table>\n",
       "</div>"
      ],
      "text/plain": [
       "                     temp  shift(-1)  shift(1)  shift(3)  diff(1)  diff(3)\n",
       "date                                                                      \n",
       "2010-01-01 00:00:00  47.8       47.4       NaN       NaN      NaN      NaN\n",
       "2010-01-01 01:00:00  47.4       46.9      47.8       NaN     -0.4      NaN\n",
       "2010-01-01 02:00:00  46.9       46.5      47.4       NaN     -0.5      NaN\n",
       "2010-01-01 03:00:00  46.5       46.0      46.9      47.8     -0.4     -1.3\n",
       "2010-01-01 04:00:00  46.0       45.8      46.5      47.4     -0.5     -1.4\n",
       "2010-01-01 05:00:00  45.8       45.9      46.0      46.9     -0.2     -1.1\n",
       "2010-01-01 06:00:00  45.9       45.9      45.8      46.5      0.1     -0.6\n",
       "2010-01-01 07:00:00  45.9       46.4      45.9      46.0      0.0     -0.1\n",
       "2010-01-01 08:00:00  46.4       48.0      45.9      45.8      0.5      0.6\n",
       "2010-01-01 09:00:00  48.0       49.5      46.4      45.9      1.6      2.1\n",
       "2010-01-01 10:00:00  49.5       50.6      48.0      45.9      1.5      3.6\n",
       "2010-01-01 11:00:00  50.6       51.6      49.5      46.4      1.1      4.2\n",
       "2010-01-01 12:00:00  51.6       52.4      50.6      48.0      1.0      3.6\n",
       "2010-01-01 13:00:00  52.4       53.0      51.6      49.5      0.8      2.9\n",
       "2010-01-01 14:00:00  53.0       53.3      52.4      50.6      0.6      2.4\n",
       "2010-01-01 15:00:00  53.3       52.9      53.0      51.6      0.3      1.7\n",
       "2010-01-01 16:00:00  52.9       51.9      53.3      52.4     -0.4      0.5\n",
       "2010-01-01 17:00:00  51.9       51.1      52.9      53.0     -1.0     -1.1\n",
       "2010-01-01 18:00:00  51.1       50.5      51.9      53.3     -0.8     -2.2\n",
       "2010-01-01 19:00:00  50.5       49.9      51.1      52.9     -0.6     -2.4\n",
       "2010-01-01 20:00:00  49.9       49.5      50.5      51.9     -0.6     -2.0\n",
       "2010-01-01 21:00:00  49.5       48.9      49.9      51.1     -0.4     -1.6\n",
       "2010-01-01 22:00:00  48.9       48.4      49.5      50.5     -0.6     -1.6\n",
       "2010-01-01 23:00:00  48.4       47.9      48.9      49.9     -0.5     -1.5\n",
       "2010-01-02 00:00:00  47.9       47.6      48.4      49.5     -0.5     -1.6"
      ]
     },
     "execution_count": 31,
     "metadata": {},
     "output_type": "execute_result"
    }
   ],
   "source": [
    "# shifts the data to the forward or backward by that many dates; gets the difference between a previous or further back observation \n",
    "temps['shift(-1)'] = temps.temp.shift(-1)\n",
    "temps['shift(1)'] = temps.temp.shift(1)\n",
    "temps['shift(3)'] = temps.temp.shift(3)\n",
    "temps['diff(1)'] = temps.temp.diff(1)\n",
    "temps['diff(3)'] = temps.temp.diff(3)\n",
    "temps.head(25)\n"
   ]
  },
  {
   "cell_type": "code",
   "execution_count": 32,
   "id": "fb13beaf-d3d5-45b2-b1a3-50e6c6f24c69",
   "metadata": {},
   "outputs": [],
   "source": [
    "# cleanup the additional columns\n",
    "for col in ['shift(-1)', 'shift(1)', 'shift(3)', 'diff(1)', 'diff(3)']:\n",
    "    del temps[col]\n"
   ]
  },
  {
   "cell_type": "code",
   "execution_count": 34,
   "id": "3a5ae7cf-380b-418b-a07b-d903ba6636e4",
   "metadata": {},
   "outputs": [
    {
     "data": {
      "text/html": [
       "<div>\n",
       "<style scoped>\n",
       "    .dataframe tbody tr th:only-of-type {\n",
       "        vertical-align: middle;\n",
       "    }\n",
       "\n",
       "    .dataframe tbody tr th {\n",
       "        vertical-align: top;\n",
       "    }\n",
       "\n",
       "    .dataframe thead th {\n",
       "        text-align: right;\n",
       "    }\n",
       "</style>\n",
       "<table border=\"1\" class=\"dataframe\">\n",
       "  <thead>\n",
       "    <tr style=\"text-align: right;\">\n",
       "      <th></th>\n",
       "      <th>temp</th>\n",
       "    </tr>\n",
       "    <tr>\n",
       "      <th>date</th>\n",
       "      <th></th>\n",
       "    </tr>\n",
       "  </thead>\n",
       "  <tbody>\n",
       "    <tr>\n",
       "      <th>2010-01-01 00:00:00</th>\n",
       "      <td>47.8</td>\n",
       "    </tr>\n",
       "    <tr>\n",
       "      <th>2010-01-01 01:00:00</th>\n",
       "      <td>47.4</td>\n",
       "    </tr>\n",
       "    <tr>\n",
       "      <th>2010-01-01 02:00:00</th>\n",
       "      <td>46.9</td>\n",
       "    </tr>\n",
       "    <tr>\n",
       "      <th>2010-01-01 03:00:00</th>\n",
       "      <td>46.5</td>\n",
       "    </tr>\n",
       "    <tr>\n",
       "      <th>2010-01-01 04:00:00</th>\n",
       "      <td>46.0</td>\n",
       "    </tr>\n",
       "    <tr>\n",
       "      <th>...</th>\n",
       "      <td>...</td>\n",
       "    </tr>\n",
       "    <tr>\n",
       "      <th>2010-12-31 19:00:00</th>\n",
       "      <td>50.4</td>\n",
       "    </tr>\n",
       "    <tr>\n",
       "      <th>2010-12-31 20:00:00</th>\n",
       "      <td>49.9</td>\n",
       "    </tr>\n",
       "    <tr>\n",
       "      <th>2010-12-31 21:00:00</th>\n",
       "      <td>49.4</td>\n",
       "    </tr>\n",
       "    <tr>\n",
       "      <th>2010-12-31 22:00:00</th>\n",
       "      <td>48.8</td>\n",
       "    </tr>\n",
       "    <tr>\n",
       "      <th>2010-12-31 23:00:00</th>\n",
       "      <td>48.3</td>\n",
       "    </tr>\n",
       "  </tbody>\n",
       "</table>\n",
       "<p>8759 rows × 1 columns</p>\n",
       "</div>"
      ],
      "text/plain": [
       "                     temp\n",
       "date                     \n",
       "2010-01-01 00:00:00  47.8\n",
       "2010-01-01 01:00:00  47.4\n",
       "2010-01-01 02:00:00  46.9\n",
       "2010-01-01 03:00:00  46.5\n",
       "2010-01-01 04:00:00  46.0\n",
       "...                   ...\n",
       "2010-12-31 19:00:00  50.4\n",
       "2010-12-31 20:00:00  49.9\n",
       "2010-12-31 21:00:00  49.4\n",
       "2010-12-31 22:00:00  48.8\n",
       "2010-12-31 23:00:00  48.3\n",
       "\n",
       "[8759 rows x 1 columns]"
      ]
     },
     "execution_count": 34,
     "metadata": {},
     "output_type": "execute_result"
    }
   ],
   "source": [
    "temps"
   ]
  },
  {
   "cell_type": "markdown",
   "id": "cf6d9b31-a300-4519-bf2b-2ee439ee5c94",
   "metadata": {},
   "source": [
    "## Exercises"
   ]
  },
  {
   "cell_type": "markdown",
   "id": "1f359c91-cf60-4820-9d71-385b33dfabd2",
   "metadata": {},
   "source": [
    "1. Resample by the day and take the average temperature. Visualize the average temperature over time."
   ]
  },
  {
   "cell_type": "code",
   "execution_count": 46,
   "id": "7e9e657c-6ea6-4108-ad05-95b7d948ad29",
   "metadata": {},
   "outputs": [
    {
     "data": {
      "text/plain": [
       "<AxesSubplot:title={'center':'Avg Daily Temps'}, xlabel='date'>"
      ]
     },
     "execution_count": 46,
     "metadata": {},
     "output_type": "execute_result"
    },
    {
     "data": {
      "image/png": "[encoded data removed]",
      "text/plain": [
       "<Figure size 432x288 with 1 Axes>"
      ]
     },
     "metadata": {
      "needs_background": "light"
     },
     "output_type": "display_data"
    }
   ],
   "source": [
    "# resamples by the dy and takes the average temperature and plots it\n",
    "\n",
    "temps.resample('d').mean().plot(title='Avg Daily Temps')"
   ]
  },
  {
   "cell_type": "markdown",
   "id": "2993ac85-ae34-4551-91b3-3592c876bfbc",
   "metadata": {},
   "source": [
    "2. Write the code necessary to visualize the minimum temperature over time."
   ]
  },
  {
   "cell_type": "code",
   "execution_count": 47,
   "id": "d37ce813-d369-416c-bb7e-3e33dd7983fd",
   "metadata": {},
   "outputs": [
    {
     "data": {
      "text/plain": [
       "<AxesSubplot:title={'center':'Lowest Daily Temps'}, xlabel='date'>"
      ]
     },
     "execution_count": 47,
     "metadata": {},
     "output_type": "execute_result"
    },
    {
     "data": {
      "image/png": "[encoded data removed]",
      "text/plain": [
       "<Figure size 432x288 with 1 Axes>"
      ]
     },
     "metadata": {
      "needs_background": "light"
     },
     "output_type": "display_data"
    }
   ],
   "source": [
    "temps.resample('d').min().plot(title='Lowest Daily Temps')"
   ]
  },
  {
   "cell_type": "markdown",
   "id": "51eec251-db5a-46a1-99be-a3314759b303",
   "metadata": {},
   "source": [
    "3. Write the code necessary to visualize the maximum temperature over time."
   ]
  },
  {
   "cell_type": "code",
   "execution_count": 48,
   "id": "82282e21-bd1e-436b-a81b-cc605f7f39f1",
   "metadata": {},
   "outputs": [
    {
     "data": {
      "text/plain": [
       "<AxesSubplot:title={'center':'Highest Daily Temps'}, xlabel='date'>"
      ]
     },
     "execution_count": 48,
     "metadata": {},
     "output_type": "execute_result"
    },
    {
     "data": {
      "image/png": "[encoded data removed]",
      "text/plain": [
       "<Figure size 432x288 with 1 Axes>"
      ]
     },
     "metadata": {
      "needs_background": "light"
     },
     "output_type": "display_data"
    }
   ],
   "source": [
    "temps.resample('d').max().plot(title='Highest Daily Temps')"
   ]
  },
  {
   "cell_type": "markdown",
   "id": "af5c5fdb-cf00-4ec0-8947-e539c61dd514",
   "metadata": {},
   "source": [
    "4. Which month is the coldest, on average?"
   ]
  },
  {
   "cell_type": "code",
   "execution_count": 50,
   "id": "6532b19c-dcaa-4b75-bc67-942c56a7573b",
   "metadata": {},
   "outputs": [
    {
     "data": {
      "text/html": [
       "<div>\n",
       "<style scoped>\n",
       "    .dataframe tbody tr th:only-of-type {\n",
       "        vertical-align: middle;\n",
       "    }\n",
       "\n",
       "    .dataframe tbody tr th {\n",
       "        vertical-align: top;\n",
       "    }\n",
       "\n",
       "    .dataframe thead th {\n",
       "        text-align: right;\n",
       "    }\n",
       "</style>\n",
       "<table border=\"1\" class=\"dataframe\">\n",
       "  <thead>\n",
       "    <tr style=\"text-align: right;\">\n",
       "      <th></th>\n",
       "      <th>temp</th>\n",
       "      <th>month</th>\n",
       "    </tr>\n",
       "    <tr>\n",
       "      <th>date</th>\n",
       "      <th></th>\n",
       "      <th></th>\n",
       "    </tr>\n",
       "  </thead>\n",
       "  <tbody>\n",
       "    <tr>\n",
       "      <th>2010-01-01 00:00:00</th>\n",
       "      <td>47.8</td>\n",
       "      <td>01-Jan</td>\n",
       "    </tr>\n",
       "    <tr>\n",
       "      <th>2010-01-01 01:00:00</th>\n",
       "      <td>47.4</td>\n",
       "      <td>01-Jan</td>\n",
       "    </tr>\n",
       "    <tr>\n",
       "      <th>2010-01-01 02:00:00</th>\n",
       "      <td>46.9</td>\n",
       "      <td>01-Jan</td>\n",
       "    </tr>\n",
       "    <tr>\n",
       "      <th>2010-01-01 03:00:00</th>\n",
       "      <td>46.5</td>\n",
       "      <td>01-Jan</td>\n",
       "    </tr>\n",
       "    <tr>\n",
       "      <th>2010-01-01 04:00:00</th>\n",
       "      <td>46.0</td>\n",
       "      <td>01-Jan</td>\n",
       "    </tr>\n",
       "  </tbody>\n",
       "</table>\n",
       "</div>"
      ],
      "text/plain": [
       "                     temp   month\n",
       "date                             \n",
       "2010-01-01 00:00:00  47.8  01-Jan\n",
       "2010-01-01 01:00:00  47.4  01-Jan\n",
       "2010-01-01 02:00:00  46.9  01-Jan\n",
       "2010-01-01 03:00:00  46.5  01-Jan\n",
       "2010-01-01 04:00:00  46.0  01-Jan"
      ]
     },
     "execution_count": 50,
     "metadata": {},
     "output_type": "execute_result"
    }
   ],
   "source": [
    "temps['month'] = temps.index.strftime('%m-%b')\n",
    "temps.head()"
   ]
  },
  {
   "cell_type": "markdown",
   "id": "b8179e4b-51c4-4deb-90fa-ae21f73eda0b",
   "metadata": {},
   "source": [
    "5. Which month has the highest average temperature?"
   ]
  },
  {
   "cell_type": "code",
   "execution_count": 41,
   "id": "43770b9c-f44d-446c-9fab-5b3d5b399207",
   "metadata": {},
   "outputs": [],
   "source": [
    "rain = data.seattle_weather()"
   ]
  },
  {
   "cell_type": "markdown",
   "id": "9a857f1a-a25e-421d-b483-2e91f7672c8c",
   "metadata": {},
   "source": []
  },
  {
   "cell_type": "markdown",
   "id": "9ab3ce29-352a-4421-8d7a-edcd93f4251a",
   "metadata": {},
   "source": [
    "6. Resample by the day and calculate the min and max temp for the day (Hint: .agg(['min', 'max'])). Use this resampled dataframe to calculate the change in temperature for the day. Which month has the highest daily temperature variability?"
   ]
  },
  {
   "cell_type": "markdown",
   "id": "8b73ac54-f28c-490c-8381-fc07a040735d",
   "metadata": {},
   "source": [
    "7. Bonus: Visualize the daily min, average, and max temperature over time on a single line plot, i.e. the min, average, and maximum temperature should be 3 seperate lines."
   ]
  },
  {
   "cell_type": "code",
   "execution_count": null,
   "id": "e6a415f1-9749-4758-81ab-f8c95937ba66",
   "metadata": {},
   "outputs": [],
   "source": []
  },
  {
   "cell_type": "markdown",
   "id": "a9ab25c7-17f1-4a28-8c0d-9b17019da4b7",
   "metadata": {},
   "source": [
    "1. Which year and month combination has the highest amount of precipitation?"
   ]
  },
  {
   "cell_type": "markdown",
   "id": "9f17ed10-369c-4ac5-a910-de24360bc2e0",
   "metadata": {},
   "source": [
    "2. Visualize the amount of monthly precipitation over time."
   ]
  },
  {
   "cell_type": "markdown",
   "id": "bcfd4418-9521-4b95-b12a-3c770a84e3fd",
   "metadata": {},
   "source": [
    "3. Visualize the amount of wind over time. Choose a time interval you think is appropriate."
   ]
  },
  {
   "cell_type": "markdown",
   "id": "b8ff1665-e682-45af-8b2b-878d081094a0",
   "metadata": {},
   "source": [
    "4. Which year-month combination is the windiest?"
   ]
  },
  {
   "cell_type": "markdown",
   "id": "150b070f-f3fc-4f60-bd02-613893f10b35",
   "metadata": {},
   "source": [
    "5. What's the sunniest year? (Hint: which day has the highest number of days where weather == sun?)"
   ]
  },
  {
   "cell_type": "markdown",
   "id": "a2facaa2-77a4-4ab1-9137-9f1a80adc775",
   "metadata": {},
   "source": [
    "6. In which month does it rain the most?"
   ]
  },
  {
   "cell_type": "markdown",
   "id": "a270b3cf-d217-448d-8389-c09650437326",
   "metadata": {},
   "source": [
    "7. Which month has the most number of days with a non-zero amount of precipitation?"
   ]
  },
  {
   "cell_type": "code",
   "execution_count": 42,
   "id": "2c43b827-a7f0-4b2c-b467-a7e61390d3bf",
   "metadata": {},
   "outputs": [],
   "source": [
    "air = data.flights_20k()"
   ]
  },
  {
   "cell_type": "markdown",
   "id": "2e1b88a6-a47c-4c1c-a276-de535908965b",
   "metadata": {},
   "source": [
    "1. Convert any negative delays to 0."
   ]
  },
  {
   "cell_type": "markdown",
   "id": "2e54ede8-e627-4247-9199-457d5de4bc98",
   "metadata": {},
   "source": [
    "2. Which hour of the day has the highest average delay?"
   ]
  },
  {
   "cell_type": "markdown",
   "id": "1ba7d94e-3ab9-490a-bfef-fd9660cb73c6",
   "metadata": {},
   "source": [
    "3. Does the day of the week make a difference in the delay amount?"
   ]
  },
  {
   "cell_type": "markdown",
   "id": "9feb207f-dc93-4369-9373-e765de78715e",
   "metadata": {},
   "source": [
    "4. Does the month make a difference in the delay amount?"
   ]
  },
  {
   "cell_type": "markdown",
   "id": "8e90f379-e3f0-4fca-ba8b-8c4d6f28c06a",
   "metadata": {},
   "source": [
    "#### Bonus"
   ]
  },
  {
   "cell_type": "code",
   "execution_count": 43,
   "id": "29a38d6c-c192-4f7d-bdb7-f314e0ae01bc",
   "metadata": {},
   "outputs": [],
   "source": [
    "nrg = data.iowa_electricity()"
   ]
  },
  {
   "cell_type": "markdown",
   "id": "67ed868e-86dc-4dfc-944f-e2ea55533475",
   "metadata": {},
   "source": [
    "1. For each row, calculate the percentage of the year's total that energy source provided.\n",
    "2. Lineplot of generation over time, color by source\n",
    "3. Display the data as table where years are columns, and energy source is rows (Hint: df.pivot_table)\n",
    "4. Make a line plot that shows the amount of energy generated over time. Each source should be a separate line?\n",
    "5. Is the total generation increasing over time?\n",
    "- How would you control for increasing consumption over time when considering how much energy is coming from each source?\n",
    "- express each number as a % of the year's total"
   ]
  },
  {
   "cell_type": "code",
   "execution_count": 44,
   "id": "f2155e0d-7cf8-4433-b3f8-be2cce48c5fc",
   "metadata": {},
   "outputs": [],
   "source": [
    "temp = data.sf_temps()"
   ]
  },
  {
   "cell_type": "markdown",
   "id": "2c65ab15-d0ff-4961-8b5d-24564a891ee9",
   "metadata": {},
   "source": [
    "1. Use the sf_temps dataset"
   ]
  },
  {
   "cell_type": "markdown",
   "id": "c1883ba6-052c-4cf7-9e13-eb5b7eb5749e",
   "metadata": {},
   "source": [
    "2. Create 4 categories for temperature, cold, cool, warm, hot (hint: use pd.cut or pd.qcut for this)"
   ]
  },
  {
   "cell_type": "markdown",
   "id": "a47d5bdf-9f58-4d4b-aaee-9515cc05cf38",
   "metadata": {},
   "source": [
    "3. How does the occurances of these 4 categories change month over month? i.e. how many days have each distinction? Visualize this and give the visual appropriate colors for each category."
   ]
  },
  {
   "cell_type": "markdown",
   "id": "c52a63b2-d161-4703-833b-e213fc788164",
   "metadata": {},
   "source": [
    "4. Create pretty labels for time plots"
   ]
  },
  {
   "cell_type": "markdown",
   "id": "d94a212b-fa6c-4922-bb68-ef2431e29578",
   "metadata": {},
   "source": [
    "5. Visualize the number of days of each month that fall into each bin by year (e.g. x=month, y=n_days, hue=temp_bin) or st similar"
   ]
  },
  {
   "cell_type": "code",
   "execution_count": null,
   "id": "fcaa9916-d5b1-4e92-bc82-f8e674938519",
   "metadata": {},
   "outputs": [],
   "source": []
  }
 ],
 "metadata": {
  "kernelspec": {
   "display_name": "Python 3 (ipykernel)",
   "language": "python",
   "name": "python3"
  },
  "language_info": {
   "codemirror_mode": {
    "name": "ipython",
    "version": 3
   },
   "file_extension": ".py",
   "mimetype": "text/x-python",
   "name": "python",
   "nbconvert_exporter": "python",
   "pygments_lexer": "ipython3",
   "version": "3.9.7"
  }
 },
 "nbformat": 4,
 "nbformat_minor": 5
}
